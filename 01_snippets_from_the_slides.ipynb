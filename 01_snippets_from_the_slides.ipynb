{
 "cells": [
  {
   "cell_type": "markdown",
   "metadata": {},
   "source": [
    "# Let's get you started with asynchronous programming | Ryan Varley\n",
    "\n",
    "**PyData Global 2024 | 3rd December 2024**\n",
    "\n",
    "This notebook implements some of the code from the slides. Refer to README.md for instructions on setting up the repository and the test server.\n",
    "\n",
    "The code differs slightly from what was shown during the talk, as the presentation used a real server. This code has been adapted to use a local test server, which somewhat emulates the behaviour of the real one but does not connect to a real database or similar.\n",
    "\n",
    "For the talk itself, see [this post](https://blog.ryanvarley.com/p/pydata-global-lets-get-you-started).\n",
    "\n",
    "Remember, we are in a notebook environment so we dont need to use `asyncio.run` here 😉\n",
    "\n",
    "*import statements are often copied within code blocks to help you copy and paste, its not normal practice 🙂*"
   ]
  },
  {
   "cell_type": "code",
   "execution_count": 1,
   "metadata": {},
   "outputs": [],
   "source": [
    "import requests\n",
    "import aiohttp\n",
    "import asyncio"
   ]
  },
  {
   "cell_type": "code",
   "execution_count": 2,
   "metadata": {},
   "outputs": [],
   "source": [
    "API_URL = \"http://0.0.0.0:8000\""
   ]
  },
  {
   "cell_type": "code",
   "execution_count": 3,
   "metadata": {},
   "outputs": [
    {
     "data": {
      "text/plain": [
       "'student'"
      ]
     },
     "execution_count": 3,
     "metadata": {},
     "output_type": "execute_result"
    }
   ],
   "source": [
    "# Get list of video ids from the server to use later\n",
    "# If this fails check the server is running (see README.md)\n",
    "response = requests.get(\n",
    "    f\"{API_URL}/videos?n=100\",\n",
    ")\n",
    "response.raise_for_status()\n",
    "valid_ids = response.json()\n",
    "video_id = valid_ids[0]\n",
    "video_id"
   ]
  },
  {
   "cell_type": "markdown",
   "metadata": {},
   "source": [
    "## Normal (synchronous) version\n",
    "\n",
    "Lets make a standard get request"
   ]
  },
  {
   "cell_type": "code",
   "execution_count": 4,
   "metadata": {},
   "outputs": [
    {
     "data": {
      "text/plain": [
       "{'id': 'student',\n",
       " 'title': 'Security help surface full population power show.',\n",
       " 'description': 'Us executive blood wrong. Report whom green.',\n",
       " 'upload_date': '2021-02-05',\n",
       " 'views': 925068,\n",
       " 'warnings': []}"
      ]
     },
     "execution_count": 4,
     "metadata": {},
     "output_type": "execute_result"
    }
   ],
   "source": [
    "import requests\n",
    "\n",
    "\n",
    "def get_video(video_id):\n",
    "    response = requests.get(\n",
    "        f\"{API_URL}/videos/{video_id}\",\n",
    "    )\n",
    "    response.raise_for_status()\n",
    "    return response.json()\n",
    "\n",
    "\n",
    "get_video(video_id=video_id)"
   ]
  },
  {
   "cell_type": "markdown",
   "metadata": {},
   "source": [
    "## Asynchronous version"
   ]
  },
  {
   "cell_type": "code",
   "execution_count": 5,
   "metadata": {},
   "outputs": [
    {
     "data": {
      "text/plain": [
       "{'id': 'student',\n",
       " 'title': 'Security help surface full population power show.',\n",
       " 'description': 'Us executive blood wrong. Report whom green.',\n",
       " 'upload_date': '2021-02-05',\n",
       " 'views': 925068,\n",
       " 'warnings': []}"
      ]
     },
     "execution_count": 5,
     "metadata": {},
     "output_type": "execute_result"
    }
   ],
   "source": [
    "import aiohttp\n",
    "\n",
    "\n",
    "async def get_video_async(video_id):\n",
    "    async with aiohttp.ClientSession() as session:\n",
    "        async with session.get(f\"{API_URL}/videos/{video_id}\") as response:\n",
    "            response.raise_for_status()\n",
    "            return await response.json()\n",
    "\n",
    "\n",
    "video = await get_video_async(video_id=video_id)\n",
    "video"
   ]
  },
  {
   "cell_type": "markdown",
   "metadata": {},
   "source": [
    "await blocks within the same coroutine. So this next function will take 4x as one as one call and behaves the same as the synchronous version running one at a time"
   ]
  },
  {
   "cell_type": "code",
   "execution_count": 6,
   "metadata": {},
   "outputs": [],
   "source": [
    "async def multiple_calls():\n",
    "    await get_video_async(valid_ids[0])\n",
    "    await get_video_async(valid_ids[1])\n",
    "    await get_video_async(valid_ids[2])\n",
    "    await get_video_async(valid_ids[3])\n",
    "\n",
    "\n",
    "await multiple_calls()"
   ]
  },
  {
   "cell_type": "markdown",
   "metadata": {},
   "source": [
    "## Let’s make 100 calls to an endpoint (with async)\n",
    "\n",
    "Here we introduce `asyncio.gather` that allows us to combine multiple awaitables into one awaitable where they will run concurrently.\n",
    "\n",
    "We redefine get_video_async to accept a session."
   ]
  },
  {
   "cell_type": "code",
   "execution_count": 7,
   "metadata": {},
   "outputs": [],
   "source": [
    "import asyncio\n",
    "\n",
    "\n",
    "async def get_video_async(video_id, session):\n",
    "    async with session.get(f\"{API_URL}/videos/{video_id}\") as response:\n",
    "        response.raise_for_status()\n",
    "        return await response.json()\n",
    "\n",
    "\n",
    "async def fetch_all_videos(video_ids, limit_per_host=10):\n",
    "    connector = aiohttp.TCPConnector(limit_per_host=limit_per_host)\n",
    "    async with aiohttp.ClientSession(connector=connector) as session:\n",
    "        tasks = [get_video_async(video_id, session) for video_id in video_ids]\n",
    "        return await asyncio.gather(*tasks)"
   ]
  },
  {
   "cell_type": "markdown",
   "metadata": {},
   "source": [
    "First no limit, lets overwhelm the server"
   ]
  },
  {
   "cell_type": "code",
   "execution_count": 8,
   "metadata": {},
   "outputs": [
    {
     "data": {
      "text/plain": [
       "100"
      ]
     },
     "execution_count": 8,
     "metadata": {},
     "output_type": "execute_result"
    }
   ],
   "source": [
    "videos = await fetch_all_videos(video_ids=valid_ids, limit_per_host=100)\n",
    "len(videos)"
   ]
  },
  {
   "cell_type": "markdown",
   "metadata": {},
   "source": [
    "Now lets add a limit so we arent making too many requests at the same time (remember the default is 100!)"
   ]
  },
  {
   "cell_type": "code",
   "execution_count": 9,
   "metadata": {},
   "outputs": [
    {
     "data": {
      "text/plain": [
       "100"
      ]
     },
     "execution_count": 9,
     "metadata": {},
     "output_type": "execute_result"
    }
   ],
   "source": [
    "videos = await fetch_all_videos(video_ids=valid_ids, limit_per_host=10)\n",
    "len(videos)"
   ]
  }
 ],
 "metadata": {
  "kernelspec": {
   "display_name": "Python 3 (ipykernel)",
   "language": "python",
   "name": "python3"
  },
  "language_info": {
   "codemirror_mode": {
    "name": "ipython",
    "version": 3
   },
   "file_extension": ".py",
   "mimetype": "text/x-python",
   "name": "python",
   "nbconvert_exporter": "python",
   "pygments_lexer": "ipython3",
   "version": "3.12.7"
  }
 },
 "nbformat": 4,
 "nbformat_minor": 4
}
